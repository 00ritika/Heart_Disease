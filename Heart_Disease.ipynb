{
  "cells": [
    {
      "cell_type": "code",
      "execution_count": null,
      "metadata": {
        "id": "ZdTXf0Ixi-kv"
      },
      "outputs": [],
      "source": [
        "import pandas as pd\n",
        "import numpy as np\n",
        "import matplotlib.pyplot as plt\n",
        "import seaborn as sns\n",
        "import sklearn as skl"
      ]
    },
    {
      "cell_type": "code",
      "execution_count": null,
      "metadata": {
        "id": "maYgPAyYi-k0"
      },
      "outputs": [],
      "source": [
        "heart = pd.read_csv('heart.csv')"
      ]
    },
    {
      "cell_type": "code",
      "execution_count": null,
      "metadata": {
        "id": "f2_vtrJli-k2",
        "outputId": "c3a7d485-100e-4b64-d551-3a2c9f06b129"
      },
      "outputs": [
        {
          "data": {
            "text/html": [
              "<div>\n",
              "<style scoped>\n",
              "    .dataframe tbody tr th:only-of-type {\n",
              "        vertical-align: middle;\n",
              "    }\n",
              "\n",
              "    .dataframe tbody tr th {\n",
              "        vertical-align: top;\n",
              "    }\n",
              "\n",
              "    .dataframe thead th {\n",
              "        text-align: right;\n",
              "    }\n",
              "</style>\n",
              "<table border=\"1\" class=\"dataframe\">\n",
              "  <thead>\n",
              "    <tr style=\"text-align: right;\">\n",
              "      <th></th>\n",
              "      <th>age</th>\n",
              "      <th>sex</th>\n",
              "      <th>cp</th>\n",
              "      <th>trestbps</th>\n",
              "      <th>chol</th>\n",
              "      <th>fbs</th>\n",
              "      <th>restecg</th>\n",
              "      <th>thalach</th>\n",
              "      <th>exang</th>\n",
              "      <th>oldpeak</th>\n",
              "      <th>slope</th>\n",
              "      <th>ca</th>\n",
              "      <th>thal</th>\n",
              "      <th>target</th>\n",
              "    </tr>\n",
              "  </thead>\n",
              "  <tbody>\n",
              "    <tr>\n",
              "      <th>0</th>\n",
              "      <td>63</td>\n",
              "      <td>1</td>\n",
              "      <td>3</td>\n",
              "      <td>145</td>\n",
              "      <td>233</td>\n",
              "      <td>1</td>\n",
              "      <td>0</td>\n",
              "      <td>150</td>\n",
              "      <td>0</td>\n",
              "      <td>2.3</td>\n",
              "      <td>0</td>\n",
              "      <td>0</td>\n",
              "      <td>1</td>\n",
              "      <td>1</td>\n",
              "    </tr>\n",
              "    <tr>\n",
              "      <th>1</th>\n",
              "      <td>37</td>\n",
              "      <td>1</td>\n",
              "      <td>2</td>\n",
              "      <td>130</td>\n",
              "      <td>250</td>\n",
              "      <td>0</td>\n",
              "      <td>1</td>\n",
              "      <td>187</td>\n",
              "      <td>0</td>\n",
              "      <td>3.5</td>\n",
              "      <td>0</td>\n",
              "      <td>0</td>\n",
              "      <td>2</td>\n",
              "      <td>1</td>\n",
              "    </tr>\n",
              "    <tr>\n",
              "      <th>2</th>\n",
              "      <td>41</td>\n",
              "      <td>0</td>\n",
              "      <td>1</td>\n",
              "      <td>130</td>\n",
              "      <td>204</td>\n",
              "      <td>0</td>\n",
              "      <td>0</td>\n",
              "      <td>172</td>\n",
              "      <td>0</td>\n",
              "      <td>1.4</td>\n",
              "      <td>2</td>\n",
              "      <td>0</td>\n",
              "      <td>2</td>\n",
              "      <td>1</td>\n",
              "    </tr>\n",
              "    <tr>\n",
              "      <th>3</th>\n",
              "      <td>56</td>\n",
              "      <td>1</td>\n",
              "      <td>1</td>\n",
              "      <td>120</td>\n",
              "      <td>236</td>\n",
              "      <td>0</td>\n",
              "      <td>1</td>\n",
              "      <td>178</td>\n",
              "      <td>0</td>\n",
              "      <td>0.8</td>\n",
              "      <td>2</td>\n",
              "      <td>0</td>\n",
              "      <td>2</td>\n",
              "      <td>1</td>\n",
              "    </tr>\n",
              "    <tr>\n",
              "      <th>4</th>\n",
              "      <td>57</td>\n",
              "      <td>0</td>\n",
              "      <td>0</td>\n",
              "      <td>120</td>\n",
              "      <td>354</td>\n",
              "      <td>0</td>\n",
              "      <td>1</td>\n",
              "      <td>163</td>\n",
              "      <td>1</td>\n",
              "      <td>0.6</td>\n",
              "      <td>2</td>\n",
              "      <td>0</td>\n",
              "      <td>2</td>\n",
              "      <td>1</td>\n",
              "    </tr>\n",
              "  </tbody>\n",
              "</table>\n",
              "</div>"
            ],
            "text/plain": [
              "   age  sex  cp  trestbps  chol  fbs  restecg  thalach  exang  oldpeak  slope  \\\n",
              "0   63    1   3       145   233    1        0      150      0      2.3      0   \n",
              "1   37    1   2       130   250    0        1      187      0      3.5      0   \n",
              "2   41    0   1       130   204    0        0      172      0      1.4      2   \n",
              "3   56    1   1       120   236    0        1      178      0      0.8      2   \n",
              "4   57    0   0       120   354    0        1      163      1      0.6      2   \n",
              "\n",
              "   ca  thal  target  \n",
              "0   0     1       1  \n",
              "1   0     2       1  \n",
              "2   0     2       1  \n",
              "3   0     2       1  \n",
              "4   0     2       1  "
            ]
          },
          "execution_count": 3,
          "metadata": {},
          "output_type": "execute_result"
        }
      ],
      "source": [
        " heart.head()  #display the first 5 records of the csv file"
      ]
    },
    {
      "cell_type": "code",
      "execution_count": null,
      "metadata": {
        "id": "FiQLnM_ti-k3",
        "outputId": "8eb73a78-a25e-4baa-ece7-5121c8105645"
      },
      "outputs": [
        {
          "data": {
            "text/html": [
              "<div>\n",
              "<style scoped>\n",
              "    .dataframe tbody tr th:only-of-type {\n",
              "        vertical-align: middle;\n",
              "    }\n",
              "\n",
              "    .dataframe tbody tr th {\n",
              "        vertical-align: top;\n",
              "    }\n",
              "\n",
              "    .dataframe thead th {\n",
              "        text-align: right;\n",
              "    }\n",
              "</style>\n",
              "<table border=\"1\" class=\"dataframe\">\n",
              "  <thead>\n",
              "    <tr style=\"text-align: right;\">\n",
              "      <th></th>\n",
              "      <th>age</th>\n",
              "      <th>sex</th>\n",
              "      <th>cp</th>\n",
              "      <th>trestbps</th>\n",
              "      <th>chol</th>\n",
              "      <th>fbs</th>\n",
              "      <th>restecg</th>\n",
              "      <th>thalach</th>\n",
              "      <th>exang</th>\n",
              "      <th>oldpeak</th>\n",
              "      <th>slope</th>\n",
              "      <th>ca</th>\n",
              "      <th>thal</th>\n",
              "      <th>target</th>\n",
              "    </tr>\n",
              "  </thead>\n",
              "  <tbody>\n",
              "    <tr>\n",
              "      <th>298</th>\n",
              "      <td>57</td>\n",
              "      <td>0</td>\n",
              "      <td>0</td>\n",
              "      <td>140</td>\n",
              "      <td>241</td>\n",
              "      <td>0</td>\n",
              "      <td>1</td>\n",
              "      <td>123</td>\n",
              "      <td>1</td>\n",
              "      <td>0.2</td>\n",
              "      <td>1</td>\n",
              "      <td>0</td>\n",
              "      <td>3</td>\n",
              "      <td>0</td>\n",
              "    </tr>\n",
              "    <tr>\n",
              "      <th>299</th>\n",
              "      <td>45</td>\n",
              "      <td>1</td>\n",
              "      <td>3</td>\n",
              "      <td>110</td>\n",
              "      <td>264</td>\n",
              "      <td>0</td>\n",
              "      <td>1</td>\n",
              "      <td>132</td>\n",
              "      <td>0</td>\n",
              "      <td>1.2</td>\n",
              "      <td>1</td>\n",
              "      <td>0</td>\n",
              "      <td>3</td>\n",
              "      <td>0</td>\n",
              "    </tr>\n",
              "    <tr>\n",
              "      <th>300</th>\n",
              "      <td>68</td>\n",
              "      <td>1</td>\n",
              "      <td>0</td>\n",
              "      <td>144</td>\n",
              "      <td>193</td>\n",
              "      <td>1</td>\n",
              "      <td>1</td>\n",
              "      <td>141</td>\n",
              "      <td>0</td>\n",
              "      <td>3.4</td>\n",
              "      <td>1</td>\n",
              "      <td>2</td>\n",
              "      <td>3</td>\n",
              "      <td>0</td>\n",
              "    </tr>\n",
              "    <tr>\n",
              "      <th>301</th>\n",
              "      <td>57</td>\n",
              "      <td>1</td>\n",
              "      <td>0</td>\n",
              "      <td>130</td>\n",
              "      <td>131</td>\n",
              "      <td>0</td>\n",
              "      <td>1</td>\n",
              "      <td>115</td>\n",
              "      <td>1</td>\n",
              "      <td>1.2</td>\n",
              "      <td>1</td>\n",
              "      <td>1</td>\n",
              "      <td>3</td>\n",
              "      <td>0</td>\n",
              "    </tr>\n",
              "    <tr>\n",
              "      <th>302</th>\n",
              "      <td>57</td>\n",
              "      <td>0</td>\n",
              "      <td>1</td>\n",
              "      <td>130</td>\n",
              "      <td>236</td>\n",
              "      <td>0</td>\n",
              "      <td>0</td>\n",
              "      <td>174</td>\n",
              "      <td>0</td>\n",
              "      <td>0.0</td>\n",
              "      <td>1</td>\n",
              "      <td>1</td>\n",
              "      <td>2</td>\n",
              "      <td>0</td>\n",
              "    </tr>\n",
              "  </tbody>\n",
              "</table>\n",
              "</div>"
            ],
            "text/plain": [
              "     age  sex  cp  trestbps  chol  fbs  restecg  thalach  exang  oldpeak  \\\n",
              "298   57    0   0       140   241    0        1      123      1      0.2   \n",
              "299   45    1   3       110   264    0        1      132      0      1.2   \n",
              "300   68    1   0       144   193    1        1      141      0      3.4   \n",
              "301   57    1   0       130   131    0        1      115      1      1.2   \n",
              "302   57    0   1       130   236    0        0      174      0      0.0   \n",
              "\n",
              "     slope  ca  thal  target  \n",
              "298      1   0     3       0  \n",
              "299      1   0     3       0  \n",
              "300      1   2     3       0  \n",
              "301      1   1     3       0  \n",
              "302      1   1     2       0  "
            ]
          },
          "execution_count": 4,
          "metadata": {},
          "output_type": "execute_result"
        }
      ],
      "source": [
        "heart.tail()  #displays the last 5 records of the csv file"
      ]
    },
    {
      "cell_type": "code",
      "execution_count": null,
      "metadata": {
        "id": "AulLJDB8i-k4",
        "outputId": "13b87ba2-d0bc-43e4-a5fc-fe79a2e9b131"
      },
      "outputs": [
        {
          "data": {
            "text/plain": [
              "(303, 14)"
            ]
          },
          "execution_count": 5,
          "metadata": {},
          "output_type": "execute_result"
        }
      ],
      "source": [
        "heart.shape   # displays rows and columns"
      ]
    },
    {
      "cell_type": "code",
      "execution_count": null,
      "metadata": {
        "id": "cgeX0Xzui-k5",
        "outputId": "745c7455-d8b8-4521-ffea-25af301b4491"
      },
      "outputs": [
        {
          "data": {
            "text/plain": [
              "age         0\n",
              "sex         0\n",
              "cp          0\n",
              "trestbps    0\n",
              "chol        0\n",
              "fbs         0\n",
              "restecg     0\n",
              "thalach     0\n",
              "exang       0\n",
              "oldpeak     0\n",
              "slope       0\n",
              "ca          0\n",
              "thal        0\n",
              "target      0\n",
              "dtype: int64"
            ]
          },
          "execution_count": 6,
          "metadata": {},
          "output_type": "execute_result"
        }
      ],
      "source": [
        "heart.isnull().sum()   #checks the number of missing value"
      ]
    },
    {
      "cell_type": "code",
      "execution_count": null,
      "metadata": {
        "id": "HrCedCKti-k6"
      },
      "outputs": [],
      "source": [
        "del heart['ca']\n",
        "del heart['thal']\n",
        "del heart['slope']\n",
        "del heart['oldpeak']  \n",
        "# shortening the dataset or network by deleting"
      ]
    },
    {
      "cell_type": "code",
      "execution_count": null,
      "metadata": {
        "id": "Z04V1Qwti-k8",
        "outputId": "7bd4ae13-141e-4805-a7d7-c13f6fb9fe6d"
      },
      "outputs": [
        {
          "data": {
            "text/html": [
              "<div>\n",
              "<style scoped>\n",
              "    .dataframe tbody tr th:only-of-type {\n",
              "        vertical-align: middle;\n",
              "    }\n",
              "\n",
              "    .dataframe tbody tr th {\n",
              "        vertical-align: top;\n",
              "    }\n",
              "\n",
              "    .dataframe thead th {\n",
              "        text-align: right;\n",
              "    }\n",
              "</style>\n",
              "<table border=\"1\" class=\"dataframe\">\n",
              "  <thead>\n",
              "    <tr style=\"text-align: right;\">\n",
              "      <th></th>\n",
              "      <th>age</th>\n",
              "      <th>sex</th>\n",
              "      <th>cp</th>\n",
              "      <th>trestbps</th>\n",
              "      <th>chol</th>\n",
              "      <th>fbs</th>\n",
              "      <th>restecg</th>\n",
              "      <th>thalach</th>\n",
              "      <th>exang</th>\n",
              "      <th>target</th>\n",
              "    </tr>\n",
              "  </thead>\n",
              "  <tbody>\n",
              "    <tr>\n",
              "      <th>0</th>\n",
              "      <td>63</td>\n",
              "      <td>1</td>\n",
              "      <td>3</td>\n",
              "      <td>145</td>\n",
              "      <td>233</td>\n",
              "      <td>1</td>\n",
              "      <td>0</td>\n",
              "      <td>150</td>\n",
              "      <td>0</td>\n",
              "      <td>1</td>\n",
              "    </tr>\n",
              "    <tr>\n",
              "      <th>1</th>\n",
              "      <td>37</td>\n",
              "      <td>1</td>\n",
              "      <td>2</td>\n",
              "      <td>130</td>\n",
              "      <td>250</td>\n",
              "      <td>0</td>\n",
              "      <td>1</td>\n",
              "      <td>187</td>\n",
              "      <td>0</td>\n",
              "      <td>1</td>\n",
              "    </tr>\n",
              "    <tr>\n",
              "      <th>2</th>\n",
              "      <td>41</td>\n",
              "      <td>0</td>\n",
              "      <td>1</td>\n",
              "      <td>130</td>\n",
              "      <td>204</td>\n",
              "      <td>0</td>\n",
              "      <td>0</td>\n",
              "      <td>172</td>\n",
              "      <td>0</td>\n",
              "      <td>1</td>\n",
              "    </tr>\n",
              "    <tr>\n",
              "      <th>3</th>\n",
              "      <td>56</td>\n",
              "      <td>1</td>\n",
              "      <td>1</td>\n",
              "      <td>120</td>\n",
              "      <td>236</td>\n",
              "      <td>0</td>\n",
              "      <td>1</td>\n",
              "      <td>178</td>\n",
              "      <td>0</td>\n",
              "      <td>1</td>\n",
              "    </tr>\n",
              "    <tr>\n",
              "      <th>4</th>\n",
              "      <td>57</td>\n",
              "      <td>0</td>\n",
              "      <td>0</td>\n",
              "      <td>120</td>\n",
              "      <td>354</td>\n",
              "      <td>0</td>\n",
              "      <td>1</td>\n",
              "      <td>163</td>\n",
              "      <td>1</td>\n",
              "      <td>1</td>\n",
              "    </tr>\n",
              "  </tbody>\n",
              "</table>\n",
              "</div>"
            ],
            "text/plain": [
              "   age  sex  cp  trestbps  chol  fbs  restecg  thalach  exang  target\n",
              "0   63    1   3       145   233    1        0      150      0       1\n",
              "1   37    1   2       130   250    0        1      187      0       1\n",
              "2   41    0   1       130   204    0        0      172      0       1\n",
              "3   56    1   1       120   236    0        1      178      0       1\n",
              "4   57    0   0       120   354    0        1      163      1       1"
            ]
          },
          "execution_count": 8,
          "metadata": {},
          "output_type": "execute_result"
        }
      ],
      "source": [
        "heart.head()   #To check the new dataset"
      ]
    },
    {
      "cell_type": "code",
      "execution_count": null,
      "metadata": {
        "id": "dcQCIYh1i-k9",
        "outputId": "ef2b6ad6-d7b6-4953-87fc-6b47cad49e0a"
      },
      "outputs": [
        {
          "data": {
            "text/plain": [
              "Index(['age', 'sex', 'cp', 'trestbps', 'chol', 'fbs', 'restecg', 'thalach',\n",
              "       'exang', 'target'],\n",
              "      dtype='object')"
            ]
          },
          "execution_count": 9,
          "metadata": {},
          "output_type": "execute_result"
        }
      ],
      "source": [
        "heart.columns   #displays the name of the columns"
      ]
    },
    {
      "cell_type": "code",
      "execution_count": null,
      "metadata": {
        "id": "uNFhEc_Ri-k-",
        "outputId": "8fe4eff8-63b9-4eea-8b81-26321e40be06"
      },
      "outputs": [
        {
          "name": "stdout",
          "output_type": "stream",
          "text": [
            "<class 'pandas.core.frame.DataFrame'>\n",
            "RangeIndex: 303 entries, 0 to 302\n",
            "Data columns (total 10 columns):\n",
            " #   Column    Non-Null Count  Dtype\n",
            "---  ------    --------------  -----\n",
            " 0   age       303 non-null    int64\n",
            " 1   sex       303 non-null    int64\n",
            " 2   cp        303 non-null    int64\n",
            " 3   trestbps  303 non-null    int64\n",
            " 4   chol      303 non-null    int64\n",
            " 5   fbs       303 non-null    int64\n",
            " 6   restecg   303 non-null    int64\n",
            " 7   thalach   303 non-null    int64\n",
            " 8   exang     303 non-null    int64\n",
            " 9   target    303 non-null    int64\n",
            "dtypes: int64(10)\n",
            "memory usage: 23.8 KB\n"
          ]
        }
      ],
      "source": [
        "heart.info()  # display the format of data"
      ]
    },
    {
      "cell_type": "code",
      "execution_count": null,
      "metadata": {
        "id": "PKnBoeaHi-k_",
        "outputId": "ad97886b-3791-41fb-b3e1-501ce324db18"
      },
      "outputs": [
        {
          "name": "stdout",
          "output_type": "stream",
          "text": [
            "Requirement already satisfied: pgmpy in c:\\users\\91759\\anaconda3\\lib\\site-packages (0.1.16)\n",
            "Requirement already satisfied: numpy in c:\\users\\91759\\anaconda3\\lib\\site-packages (from pgmpy) (1.18.1)\n",
            "Requirement already satisfied: torch in c:\\users\\91759\\anaconda3\\lib\\site-packages (from pgmpy) (1.10.0)\n",
            "Requirement already satisfied: tqdm in c:\\users\\91759\\anaconda3\\lib\\site-packages (from pgmpy) (4.42.1)\n",
            "Requirement already satisfied: joblib in c:\\users\\91759\\anaconda3\\lib\\site-packages (from pgmpy) (0.14.1)\n",
            "Requirement already satisfied: scikit-learn in c:\\users\\91759\\anaconda3\\lib\\site-packages (from pgmpy) (0.22.1)\n",
            "Requirement already satisfied: networkx in c:\\users\\91759\\anaconda3\\lib\\site-packages (from pgmpy) (2.4)\n",
            "Requirement already satisfied: pyparsing in c:\\users\\91759\\anaconda3\\lib\\site-packages (from pgmpy) (2.4.6)\n",
            "Requirement already satisfied: statsmodels in c:\\users\\91759\\anaconda3\\lib\\site-packages (from pgmpy) (0.11.0)\n",
            "Requirement already satisfied: pandas in c:\\users\\91759\\anaconda3\\lib\\site-packages (from pgmpy) (1.0.1)\n",
            "Requirement already satisfied: scipy in c:\\users\\91759\\anaconda3\\lib\\site-packages (from pgmpy) (1.4.1)\n",
            "Requirement already satisfied: typing-extensions in c:\\users\\91759\\anaconda3\\lib\\site-packages (from torch->pgmpy) (3.7.4.3)\n",
            "Requirement already satisfied: decorator>=4.3.0 in c:\\users\\91759\\anaconda3\\lib\\site-packages (from networkx->pgmpy) (4.4.1)\n",
            "Requirement already satisfied: patsy>=0.5 in c:\\users\\91759\\anaconda3\\lib\\site-packages (from statsmodels->pgmpy) (0.5.1)\n",
            "Requirement already satisfied: pytz>=2017.2 in c:\\users\\91759\\anaconda3\\lib\\site-packages (from pandas->pgmpy) (2019.3)\n",
            "Requirement already satisfied: python-dateutil>=2.6.1 in c:\\users\\91759\\anaconda3\\lib\\site-packages (from pandas->pgmpy) (2.8.1)\n",
            "Requirement already satisfied: six in c:\\users\\91759\\anaconda3\\lib\\site-packages (from patsy>=0.5->statsmodels->pgmpy) (1.14.0)\n"
          ]
        }
      ],
      "source": [
        "!pip install pgmpy"
      ]
    },
    {
      "cell_type": "code",
      "execution_count": null,
      "metadata": {
        "id": "XkxAe1FPi-lA"
      },
      "outputs": [],
      "source": [
        "from pgmpy.models import BayesianModel\n",
        "from pgmpy.estimators import MaximumLikelihoodEstimator, BayesianEstimator "
      ]
    },
    {
      "cell_type": "code",
      "execution_count": null,
      "metadata": {
        "id": "Pqrmt0gci-lB",
        "outputId": "dbdca5d2-eb11-4580-f4e8-5f793da4e790"
      },
      "outputs": [
        {
          "data": {
            "text/plain": [
              "Index(['age', 'sex', 'cp', 'trestbps', 'chol', 'fbs', 'restecg', 'thalach',\n",
              "       'exang', 'target'],\n",
              "      dtype='object')"
            ]
          },
          "execution_count": 14,
          "metadata": {},
          "output_type": "execute_result"
        }
      ],
      "source": [
        "heart.columns"
      ]
    },
    {
      "cell_type": "code",
      "execution_count": null,
      "metadata": {
        "id": "GNKXW-tBi-lB"
      },
      "outputs": [],
      "source": [
        "model = BayesianModel([('age','trestbps'),('age','fbs'),('sex','trestbps'),('exang','trestbps'),('trestbps','target'),('fbs','target'),('target','restecg'),('target','thalach'),('target','chol')])"
      ]
    },
    {
      "cell_type": "code",
      "execution_count": null,
      "metadata": {
        "id": "jjYritjzi-lC"
      },
      "outputs": [],
      "source": [
        "model.fit(heart, estimator=MaximumLikelihoodEstimator)   #To fit the model"
      ]
    },
    {
      "cell_type": "code",
      "execution_count": null,
      "metadata": {
        "id": "9PxQf_OIi-lC",
        "outputId": "56f6eced-ba19-4516-c51d-248d83300706"
      },
      "outputs": [
        {
          "name": "stdout",
          "output_type": "stream",
          "text": [
            "+---------+------------+\n",
            "| age(29) | 0.00330033 |\n",
            "+---------+------------+\n",
            "| age(34) | 0.00660066 |\n",
            "+---------+------------+\n",
            "| age(35) | 0.0132013  |\n",
            "+---------+------------+\n",
            "| age(37) | 0.00660066 |\n",
            "+---------+------------+\n",
            "| age(38) | 0.00990099 |\n",
            "+---------+------------+\n",
            "| age(39) | 0.0132013  |\n",
            "+---------+------------+\n",
            "| age(40) | 0.00990099 |\n",
            "+---------+------------+\n",
            "| age(41) | 0.0330033  |\n",
            "+---------+------------+\n",
            "| age(42) | 0.0264026  |\n",
            "+---------+------------+\n",
            "| age(43) | 0.0264026  |\n",
            "+---------+------------+\n",
            "| age(44) | 0.0363036  |\n",
            "+---------+------------+\n",
            "| age(45) | 0.0264026  |\n",
            "+---------+------------+\n",
            "| age(46) | 0.0231023  |\n",
            "+---------+------------+\n",
            "| age(47) | 0.0165017  |\n",
            "+---------+------------+\n",
            "| age(48) | 0.0231023  |\n",
            "+---------+------------+\n",
            "| age(49) | 0.0165017  |\n",
            "+---------+------------+\n",
            "| age(50) | 0.0231023  |\n",
            "+---------+------------+\n",
            "| age(51) | 0.039604   |\n",
            "+---------+------------+\n",
            "| age(52) | 0.0429043  |\n",
            "+---------+------------+\n",
            "| age(53) | 0.0264026  |\n",
            "+---------+------------+\n",
            "| age(54) | 0.0528053  |\n",
            "+---------+------------+\n",
            "| age(55) | 0.0264026  |\n",
            "+---------+------------+\n",
            "| age(56) | 0.0363036  |\n",
            "+---------+------------+\n",
            "| age(57) | 0.0561056  |\n",
            "+---------+------------+\n",
            "| age(58) | 0.0627063  |\n",
            "+---------+------------+\n",
            "| age(59) | 0.0462046  |\n",
            "+---------+------------+\n",
            "| age(60) | 0.0363036  |\n",
            "+---------+------------+\n",
            "| age(61) | 0.0264026  |\n",
            "+---------+------------+\n",
            "| age(62) | 0.0363036  |\n",
            "+---------+------------+\n",
            "| age(63) | 0.029703   |\n",
            "+---------+------------+\n",
            "| age(64) | 0.0330033  |\n",
            "+---------+------------+\n",
            "| age(65) | 0.0264026  |\n",
            "+---------+------------+\n",
            "| age(66) | 0.0231023  |\n",
            "+---------+------------+\n",
            "| age(67) | 0.029703   |\n",
            "+---------+------------+\n",
            "| age(68) | 0.0132013  |\n",
            "+---------+------------+\n",
            "| age(69) | 0.00990099 |\n",
            "+---------+------------+\n",
            "| age(70) | 0.0132013  |\n",
            "+---------+------------+\n",
            "| age(71) | 0.00990099 |\n",
            "+---------+------------+\n",
            "| age(74) | 0.00330033 |\n",
            "+---------+------------+\n",
            "| age(76) | 0.00330033 |\n",
            "+---------+------------+\n",
            "| age(77) | 0.00330033 |\n",
            "+---------+------------+\n"
          ]
        }
      ],
      "source": [
        "print(model.get_cpds('age'))  #cpds technique to print the probability of individual records in tabular format"
      ]
    },
    {
      "cell_type": "code",
      "execution_count": null,
      "metadata": {
        "id": "2Qqs6ishi-lD",
        "outputId": "c325858c-f70b-493b-ff33-0f9874488907"
      },
      "outputs": [
        {
          "name": "stdout",
          "output_type": "stream",
          "text": [
            "+--------+----------+\n",
            "| sex(0) | 0.316832 |\n",
            "+--------+----------+\n",
            "| sex(1) | 0.683168 |\n",
            "+--------+----------+\n"
          ]
        }
      ],
      "source": [
        "print(model.get_cpds('sex'))"
      ]
    },
    {
      "cell_type": "code",
      "execution_count": null,
      "metadata": {
        "id": "7UJMVD9ti-lE",
        "outputId": "38bb46fb-3a7f-43a7-826a-8809b984a05c"
      },
      "outputs": [
        {
          "name": "stdout",
          "output_type": "stream",
          "text": [
            "+--------+---------+---------+---------+---------+-----+--------------------+---------+---------+---------+\n",
            "| age    | age(29) | age(34) | age(35) | age(37) | ... | age(71)            | age(74) | age(76) | age(77) |\n",
            "+--------+---------+---------+---------+---------+-----+--------------------+---------+---------+---------+\n",
            "| fbs(0) | 1.0     | 1.0     | 1.0     | 1.0     | ... | 0.6666666666666666 | 1.0     | 1.0     | 1.0     |\n",
            "+--------+---------+---------+---------+---------+-----+--------------------+---------+---------+---------+\n",
            "| fbs(1) | 0.0     | 0.0     | 0.0     | 0.0     | ... | 0.3333333333333333 | 0.0     | 0.0     | 0.0     |\n",
            "+--------+---------+---------+---------+---------+-----+--------------------+---------+---------+---------+\n"
          ]
        }
      ],
      "source": [
        "print(model.get_cpds('fbs'))"
      ]
    },
    {
      "cell_type": "code",
      "execution_count": null,
      "metadata": {
        "id": "2fWID18Ki-lE"
      },
      "outputs": [],
      "source": [
        ""
      ]
    }
  ],
  "metadata": {
    "kernelspec": {
      "display_name": "Python 3",
      "language": "python",
      "name": "python3"
    },
    "language_info": {
      "codemirror_mode": {
        "name": "ipython",
        "version": 3
      },
      "file_extension": ".py",
      "mimetype": "text/x-python",
      "name": "python",
      "nbconvert_exporter": "python",
      "pygments_lexer": "ipython3",
      "version": "3.7.6"
    },
    "colab": {
      "name": "Maths_Project_Code_1.ipynb",
      "provenance": []
    }
  },
  "nbformat": 4,
  "nbformat_minor": 0
}